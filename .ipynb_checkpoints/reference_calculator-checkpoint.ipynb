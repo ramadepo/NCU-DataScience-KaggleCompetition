{
 "cells": [
  {
   "cell_type": "markdown",
   "metadata": {},
   "source": [
    "# Import"
   ]
  },
  {
   "cell_type": "code",
   "execution_count": 1,
   "metadata": {},
   "outputs": [],
   "source": [
    "import numpy as np\n",
    "import pandas as pd\n",
    "import csv\n",
    "import datetime\n",
    "import math"
   ]
  },
  {
   "cell_type": "markdown",
   "metadata": {},
   "source": [
    "# myLibrary"
   ]
  },
  {
   "cell_type": "code",
   "execution_count": 2,
   "metadata": {},
   "outputs": [],
   "source": [
    "#製造answer.csv的第1列\n",
    "def answer_header():\n",
    "    header = ['user_id']\n",
    "    for i in range(28):\n",
    "        header.append('time_slot_' + str(i) )\n",
    "    return header"
   ]
  },
  {
   "cell_type": "code",
   "execution_count": 3,
   "metadata": {},
   "outputs": [],
   "source": [
    "def get_week(date_str):\n",
    "    d = get_date(date_str)\n",
    "    w = datetime.datetime.strftime(d, '%w')\n",
    "    return int(w)"
   ]
  },
  {
   "cell_type": "code",
   "execution_count": 4,
   "metadata": {},
   "outputs": [],
   "source": [
    "def get_date(date_str):\n",
    "    return datetime.datetime.strptime(date_str, '%Y-%m-%d')"
   ]
  },
  {
   "cell_type": "code",
   "execution_count": 5,
   "metadata": {},
   "outputs": [],
   "source": [
    "def get_slot(time_str):\n",
    "    the_time = datetime.datetime.strptime(time_str, '%H:%M:%S.%f')\n",
    "    time_sec0 = datetime.datetime.strptime('01:00:00.00', '%H:%M:%S.%f')\n",
    "    time_sec1 = datetime.datetime.strptime('09:00:00.00', '%H:%M:%S.%f')\n",
    "    time_sec2 = datetime.datetime.strptime('17:00:00.00', '%H:%M:%S.%f')\n",
    "    time_sec3 = datetime.datetime.strptime('21:00:00.00', '%H:%M:%S.%f')\n",
    "    time_sec4 = datetime.datetime.strptime('23:59:59.99', '%H:%M:%S.%f')\n",
    "    if time_sec0 <= the_time and the_time <= time_sec1:\n",
    "        slot = 0\n",
    "    elif time_sec1 <= the_time and the_time <= time_sec2:\n",
    "        slot = 1\n",
    "    elif time_sec2 <= the_time and the_time <= time_sec3:\n",
    "        slot = 2\n",
    "    elif time_sec3 <= the_time and the_time <= time_sec4:\n",
    "        slot = 3\n",
    "    else:\n",
    "        slot = 4\n",
    "    return slot"
   ]
  },
  {
   "cell_type": "code",
   "execution_count": 6,
   "metadata": {},
   "outputs": [],
   "source": [
    "def get_days(end, start):\n",
    "    d = end - start\n",
    "    return d.days"
   ]
  },
  {
   "cell_type": "code",
   "execution_count": 7,
   "metadata": {},
   "outputs": [],
   "source": [
    "def update_week(week, date_str, event_week, addition):\n",
    "    date = get_date(date_str)\n",
    "    end_date = get_date('2017-08-14')\n",
    "    start_date = get_date('2017-05-13')\n",
    "    if end_date > date and date > start_date:\n",
    "        days = get_days(end_date, date)\n",
    "        weight = 0\n",
    "        for i in range(1,33):\n",
    "            if (days/7) <= i:\n",
    "                weight = math.pow(0.5, i)\n",
    "                break\n",
    "        addition = list(np.array(addition) * weight)\n",
    "        week.days[event_week].add_slots(addition)\n",
    "        another_addition = [0, 0, 0]\n",
    "        another_addition.append(addition[4])\n",
    "        week.days[event_week-1].add_slots(another_addition)\n",
    "    return week"
   ]
  },
  {
   "cell_type": "code",
   "execution_count": 8,
   "metadata": {},
   "outputs": [],
   "source": [
    "def error_list():\n",
    "    errorlist= ['error', 'api error', 'limit playzone countdown']\n",
    "    return errorlist"
   ]
  },
  {
   "cell_type": "markdown",
   "metadata": {},
   "source": [
    "# myClass"
   ]
  },
  {
   "cell_type": "code",
   "execution_count": 9,
   "metadata": {},
   "outputs": [],
   "source": [
    "class Day():\n",
    "    def __init__(self):\n",
    "        self.slot0, self.slot1, self.slot2, self.slot3 = 0, 0, 0, 0\n",
    "    def reset(self):\n",
    "        self.slot0, self.slot1, self.slot2, self.slot3 = 0, 0, 0, 0\n",
    "    def get_slots(self):\n",
    "        return [self.slot0, self.slot1, self.slot2, self.slot3]\n",
    "    def add_slots(self, addition):\n",
    "        self.slot0 += addition[0]\n",
    "        self.slot1 += addition[1]\n",
    "        self.slot2 += addition[2]\n",
    "        self.slot3 += addition[3]"
   ]
  },
  {
   "cell_type": "code",
   "execution_count": 10,
   "metadata": {},
   "outputs": [],
   "source": [
    "class Week():\n",
    "    def __init__(self):\n",
    "        self.days = []\n",
    "        for i in range(7):\n",
    "            self.days.append(Day())\n",
    "    def reset(self):\n",
    "        for i in range(7):\n",
    "            self.days[i].reset()\n",
    "    def get_answer(self, id):\n",
    "        tmp = []\n",
    "        for i in range(1, 7):\n",
    "            tmp += self.days[i].get_slots()\n",
    "        tmp += self.days[0].get_slots()\n",
    "        answer = [id] + list(np.array(tmp))\n",
    "        return answer"
   ]
  },
  {
   "cell_type": "markdown",
   "metadata": {},
   "source": [
    "# PreProcess Training Data"
   ]
  },
  {
   "cell_type": "code",
   "execution_count": 11,
   "metadata": {
    "scrolled": true
   },
   "outputs": [
    {
     "name": "stdout",
     "output_type": "stream",
     "text": [
      "2018-12-10 17:48:13.852448\n",
      "1\n",
      "2\n",
      "3\n",
      "4\n",
      "5\n",
      "6\n",
      "7\n",
      "8\n",
      "9\n",
      "10\n",
      "11\n",
      "12\n",
      "13\n",
      "14\n",
      "15\n",
      "16\n",
      "17\n",
      "18\n",
      "19\n",
      "20\n",
      "21\n",
      "22\n",
      "23\n",
      "24\n",
      "25\n",
      "26\n",
      "27\n",
      "28\n",
      "29\n",
      "30\n",
      "31\n",
      "32\n",
      "33\n",
      "34\n",
      "35\n",
      "36\n",
      "37\n",
      "38\n",
      "39\n",
      "40\n",
      "41\n",
      "42\n",
      "43\n",
      "44\n",
      "45\n",
      "2018-12-10 18:44:17.789996\n"
     ]
    }
   ],
   "source": [
    "with open('reference8.csv', 'w') as csvfile:\n",
    "    writer = csv.writer(csvfile)\n",
    "    writer.writerow(answer_header())\n",
    "    week = Week()\n",
    "    # 開始處理資料\n",
    "    print(datetime.datetime.now())\n",
    "    for data_count in range(1, 46): # revise\n",
    "        # 進度顯示\n",
    "        print(data_count)\n",
    "        \n",
    "        data = pd.read_csv('public/data-0' + str(data_count) + '.csv')\n",
    "        \n",
    "        # 取得目前csv檔案的首尾user_id\n",
    "        head = data.head(1)['user_id'].values[0]\n",
    "        tail = data.tail(1)['user_id'].values[0]\n",
    "        \n",
    "        # 依序處理各id資料並寫入reference.csv\n",
    "        for id in range(head, tail+1):\n",
    "            id_data = data[data['user_id'] == id]\n",
    "            length = len(id_data)\n",
    "            \n",
    "            # 依序處理某id的每一筆資料\n",
    "            now_date = id_data['event_time'].values[0].split()[0]\n",
    "            addition = [0, 0, 0, 0, 0]\n",
    "            for i in range(length):\n",
    "                # 切分時間獲得星期和slot\n",
    "                event_time = id_data['event_time'].values[i].split()\n",
    "                date = event_time[0]\n",
    "                \n",
    "                # 當日期變化\n",
    "                if date != now_date:\n",
    "                    # 將前日的紀錄更新進week\n",
    "                    event_week = get_week(now_date)\n",
    "                    week = update_week(week, now_date, event_week, addition)\n",
    "                    #並初始化now_date和addition\n",
    "                    now_date = date\n",
    "                    addition = [0, 0, 0, 0, 0]\n",
    "                \n",
    "                # 若無error則把紀錄活動至addition\n",
    "                #trigger = id_data['action_trigger'].values[i]\n",
    "                #if trigger not in error_list():\n",
    "                event_slot = get_slot(event_time[1])\n",
    "                addition[event_slot] = 1\n",
    "            \n",
    "            # 補齊最後一段日期的紀錄\n",
    "            event_week = get_week(now_date)\n",
    "            week = update_week(week, now_date, event_week, addition)\n",
    "            \n",
    "            # 寫入answer.csv\n",
    "            writer.writerow(week.get_answer(id))\n",
    "            \n",
    "            # 初始化week\n",
    "            week.reset()\n",
    "            \n",
    "            #break # revise\n",
    "\n",
    "    print(datetime.datetime.now())\n",
    "# test"
   ]
  },
  {
   "cell_type": "markdown",
   "metadata": {},
   "source": [
    "# Main"
   ]
  },
  {
   "cell_type": "code",
   "execution_count": 12,
   "metadata": {
    "scrolled": true
   },
   "outputs": [
    {
     "data": {
      "text/plain": [
       "'wait'"
      ]
     },
     "execution_count": 12,
     "metadata": {},
     "output_type": "execute_result"
    }
   ],
   "source": [
    "\"wait\""
   ]
  },
  {
   "cell_type": "markdown",
   "metadata": {},
   "source": [
    "# Test Area"
   ]
  },
  {
   "cell_type": "code",
   "execution_count": null,
   "metadata": {
    "scrolled": true
   },
   "outputs": [],
   "source": []
  },
  {
   "cell_type": "code",
   "execution_count": null,
   "metadata": {
    "scrolled": true
   },
   "outputs": [],
   "source": []
  },
  {
   "cell_type": "markdown",
   "metadata": {},
   "source": [
    "# Check Answer"
   ]
  },
  {
   "cell_type": "code",
   "execution_count": null,
   "metadata": {
    "scrolled": true
   },
   "outputs": [],
   "source": []
  }
 ],
 "metadata": {
  "kernelspec": {
   "display_name": "Python 3",
   "language": "python",
   "name": "python3"
  },
  "language_info": {
   "codemirror_mode": {
    "name": "ipython",
    "version": 3
   },
   "file_extension": ".py",
   "mimetype": "text/x-python",
   "name": "python",
   "nbconvert_exporter": "python",
   "pygments_lexer": "ipython3",
   "version": "3.7.0"
  }
 },
 "nbformat": 4,
 "nbformat_minor": 2
}
